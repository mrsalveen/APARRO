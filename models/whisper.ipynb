{
 "cells": [
  {
   "cell_type": "code",
   "execution_count": 12,
   "metadata": {},
   "outputs": [],
   "source": [
    "import whisper \n"
   ]
  },
  {
   "cell_type": "code",
   "execution_count": 13,
   "metadata": {},
   "outputs": [
    {
     "name": "stdout",
     "output_type": "stream",
     "text": [
      " There's no point standing around will only be showered by more boulders. Ready your horses on the double! Be honest, are all of us riding to our deaths? Yes, we are. And since we're dying anyway, you're saying that it's better? If we have this time riding... I am. But wait, if we'll die anyway, then who cares what we do? We could just this obey your own.\n"
     ]
    }
   ],
   "source": [
    "# 30 seconds -> 7 seconds\n",
    "model = whisper.load_model('base.en')\n",
    "result = model.transcribe('ervin_speech.mp3', fp16 = False)\n",
    "print(result['text'])"
   ]
  },
  {
   "cell_type": "code",
   "execution_count": 14,
   "metadata": {},
   "outputs": [
    {
     "name": "stdout",
     "output_type": "stream",
     "text": [
      " There's no point standing around. We'll only be showered by more boulders. Ready your horses on the double! Be honest. Are all of us... riding to our deaths? Yes, we are. And since we're dying anyway, you're saying that it's better? If we at least die fighting... I am. But wait. If we'll die anyway, then who cares what we do? We could just disobey your horses.\n"
     ]
    }
   ],
   "source": [
    "# 30 seconds -> 18 seconds\n",
    "model = whisper.load_model('small.en')\n",
    "result = model.transcribe('ervin_speech.mp3', fp16 = False)\n",
    "print(result['text'])"
   ]
  },
  {
   "cell_type": "code",
   "execution_count": 15,
   "metadata": {},
   "outputs": [
    {
     "name": "stdout",
     "output_type": "stream",
     "text": [
      " There's no point standing around. We'll only be showered by more boulders. Ready your horses on the double! Be honest. Are all of us riding to our deaths? Yes, we are. And since we're dying anyway, you're saying that it's better? If we at least die fighting? I am. But wait. If we'll die anyway, then who cares what we do? We could just disobey your own death.\n"
     ]
    }
   ],
   "source": [
    "# 30 seconds -> 51 seconds\n",
    "model = whisper.load_model('medium.en')\n",
    "result = model.transcribe('ervin_speech.mp3', fp16 = False)\n",
    "print(result['text'])"
   ]
  },
  {
   "cell_type": "code",
   "execution_count": 16,
   "metadata": {},
   "outputs": [
    {
     "name": "stdout",
     "output_type": "stream",
     "text": [
      " There's no point standing around. We'll only be showered by more boulders. Ready your horses on the double! Be honest. Are all of us... ...riding to our deaths? Yes, we are. And since we're dying anyway, you're saying that it's better... ...if we at least stop fighting? I am. But wait... If we'll die anyway, then who cares what we do? We could just disobey your orders.\n"
     ]
    }
   ],
   "source": [
    "# 30 seconds -> 183 seconds\n",
    "model = whisper.load_model('large')\n",
    "result = model.transcribe('ervin_speech.mp3', fp16 = False)\n",
    "print(result['text'])"
   ]
  },
  {
   "cell_type": "code",
   "execution_count": null,
   "metadata": {},
   "outputs": [],
   "source": [
    "# map reduce\n",
    "# elastic reduce\n"
   ]
  }
 ],
 "metadata": {
  "kernelspec": {
   "display_name": "Python 3",
   "language": "python",
   "name": "python3"
  },
  "language_info": {
   "codemirror_mode": {
    "name": "ipython",
    "version": 3
   },
   "file_extension": ".py",
   "mimetype": "text/x-python",
   "name": "python",
   "nbconvert_exporter": "python",
   "pygments_lexer": "ipython3",
   "version": "3.10.4"
  },
  "orig_nbformat": 4
 },
 "nbformat": 4,
 "nbformat_minor": 2
}
