{
 "cells": [
  {
   "cell_type": "code",
   "execution_count": 1,
   "metadata": {},
   "outputs": [
    {
     "name": "stdout",
     "output_type": "stream",
     "text": [
      "^C\n"
     ]
    },
    {
     "name": "stdout",
     "output_type": "stream",
     "text": [
      "Defaulting to user installation because normal site-packages is not writeable\n",
      "Requirement already satisfied: ctransformers in c:\\users\\mrsal\\appdata\\roaming\\python\\python310\\site-packages (0.2.27)\n",
      "Requirement already satisfied: huggingface-hub in c:\\users\\mrsal\\appdata\\roaming\\python\\python310\\site-packages (from ctransformers) (0.17.3)\n",
      "Requirement already satisfied: py-cpuinfo<10.0.0,>=9.0.0 in c:\\users\\mrsal\\appdata\\roaming\\python\\python310\\site-packages (from ctransformers) (9.0.0)\n",
      "Requirement already satisfied: filelock in c:\\users\\mrsal\\appdata\\roaming\\python\\python310\\site-packages (from huggingface-hub->ctransformers) (3.10.6)\n",
      "Requirement already satisfied: fsspec in c:\\users\\mrsal\\appdata\\roaming\\python\\python310\\site-packages (from huggingface-hub->ctransformers) (2023.9.2)\n",
      "Requirement already satisfied: requests in c:\\users\\mrsal\\appdata\\roaming\\python\\python310\\site-packages (from huggingface-hub->ctransformers) (2.28.2)\n",
      "Requirement already satisfied: tqdm>=4.42.1 in c:\\program files\\python310\\lib\\site-packages (from huggingface-hub->ctransformers) (4.65.0)\n",
      "Requirement already satisfied: pyyaml>=5.1 in c:\\users\\mrsal\\appdata\\roaming\\python\\python310\\site-packages (from huggingface-hub->ctransformers) (6.0.1)\n",
      "Requirement already satisfied: typing-extensions>=3.7.4.3 in c:\\users\\mrsal\\appdata\\roaming\\python\\python310\\site-packages (from huggingface-hub->ctransformers) (4.4.0)\n",
      "Requirement already satisfied: packaging>=20.9 in c:\\users\\mrsal\\appdata\\roaming\\python\\python310\\site-packages (from huggingface-hub->ctransformers) (23.0)\n",
      "Requirement already satisfied: colorama in c:\\users\\mrsal\\appdata\\roaming\\python\\python310\\site-packages (from tqdm>=4.42.1->huggingface-hub->ctransformers) (0.4.6)\n",
      "Requirement already satisfied: charset-normalizer<4,>=2 in c:\\users\\mrsal\\appdata\\roaming\\python\\python310\\site-packages (from requests->huggingface-hub->ctransformers) (3.0.1)\n",
      "Requirement already satisfied: idna<4,>=2.5 in c:\\users\\mrsal\\appdata\\roaming\\python\\python310\\site-packages (from requests->huggingface-hub->ctransformers) (3.4)\n",
      "Requirement already satisfied: urllib3<1.27,>=1.21.1 in c:\\users\\mrsal\\appdata\\roaming\\python\\python310\\site-packages (from requests->huggingface-hub->ctransformers) (1.26.14)\n",
      "Requirement already satisfied: certifi>=2017.4.17 in c:\\users\\mrsal\\appdata\\roaming\\python\\python310\\site-packages (from requests->huggingface-hub->ctransformers) (2022.12.7)\n"
     ]
    },
    {
     "name": "stderr",
     "output_type": "stream",
     "text": [
      "WARNING: There was an error checking the latest version of pip.\n"
     ]
    }
   ],
   "source": [
    "# For GPU\n",
    "# !pip install ctransformers[cuda] \n",
    "# !pip install ctransformers[gptq] # \n",
    "!pip install ctransformers "
   ]
  },
  {
   "cell_type": "code",
   "execution_count": 1,
   "metadata": {},
   "outputs": [
    {
     "name": "stderr",
     "output_type": "stream",
     "text": [
      "c:\\Program Files\\Python310\\lib\\site-packages\\tqdm\\auto.py:21: TqdmWarning: IProgress not found. Please update jupyter and ipywidgets. See https://ipywidgets.readthedocs.io/en/stable/user_install.html\n",
      "  from .autonotebook import tqdm as notebook_tqdm\n"
     ]
    }
   ],
   "source": [
    "from ctransformers import AutoModelForCausalLM"
   ]
  },
  {
   "cell_type": "code",
   "execution_count": 2,
   "metadata": {},
   "outputs": [],
   "source": [
    "def colab_print(text, max_width=120):\n",
    "    words = text.split()\n",
    "    line = \"\"\n",
    "    for word in words:\n",
    "        if len(line) + len(word) + 1 > max_width:\n",
    "            print(line)\n",
    "            line = \"\"\n",
    "        line += word + \" \"\n",
    "    print(line)"
   ]
  },
  {
   "cell_type": "code",
   "execution_count": 3,
   "metadata": {},
   "outputs": [
    {
     "name": "stderr",
     "output_type": "stream",
     "text": [
      "Fetching 1 files: 100%|██████████| 1/1 [00:00<?, ?it/s]\n",
      "Fetching 1 files: 100%|██████████| 1/1 [00:00<?, ?it/s]\n"
     ]
    }
   ],
   "source": [
    "llm = AutoModelForCausalLM.from_pretrained(\"TheBloke/Mistral-7B-Instruct-v0.1-GGUF\", model_file=\"mistral-7b-instruct-v0.1.Q5_K_M.gguf\", model_type=\"mistral\")"
   ]
  },
  {
   "cell_type": "code",
   "execution_count": 4,
   "metadata": {},
   "outputs": [
    {
     "name": "stdout",
     "output_type": "stream",
     "text": [
      " { \"food_name\": \"Mac Crispy\", \"quantity\": 1, \"comment\": \"without pickle\" }, { \"food_name\": \"French Fries\", \"quantity\": 3, \"comment\": \"\" }, { \"food_name\": \"Big Macs\", \"quantity\": 2, \"comment\": \"\" }, { \"food_name\": \"Coke\", \"quantity\": 1, \"comment\": \"big\" }\n"
     ]
    }
   ],
   "source": [
    "print(llm(\n",
    "    \"I want to order Mac Crispy without pickle and 5 large french fries. Change 2 of french fries to 2 big macs and add a coke. \\\n",
    "    Add one small coke and make previous one big.\\\n",
    "    What did I order? Answer with in a jason format, which includes fileds: food_name, quantity, comment. Answer:\", \\\n",
    "                max_new_tokens=2048, temperature=0.0, top_k=55, top_p=0.9, repetition_penalty=1.2))"
   ]
  },
  {
   "cell_type": "code",
   "execution_count": 7,
   "metadata": {},
   "outputs": [
    {
     "name": "stdout",
     "output_type": "stream",
     "text": [
      " {\n",
      "        \"food_id\": \"Mac Crispy\",\n",
      "        \"quantity\": 1,\n",
      "        \"comment\": \"without pickle\"\n",
      "    },\n",
      "    {\n",
      "        \"food_id\": \"French Fries\",\n",
      "        \"quantity\": 3,\n",
      "        \"comment\": \"\"\n",
      "    }\n"
     ]
    }
   ],
   "source": [
    "order = \"\"\"\n",
    "    I would like to order Mac Crispy without pickle and 5 large french fries. Change 2 of french \n",
    "    fries to 2 big macs and add a coke.\n",
    "    \"\"\".strip()\n",
    "    \n",
    "p = f\"\"\"\n",
    "    Read the restaurant order delimited by triple backticks and return a JSON file depending on \\\n",
    "    what customer ordered with the following keys: food_id, quantity, comment. \n",
    "    \n",
    "    Order: ```{order}```\n",
    "    JSON:\n",
    "    \"\"\".strip()\n",
    "print(llm(p, max_new_tokens=2048, temperature=0.0, top_k=55, top_p=0.9, repetition_penalty=1.2))"
   ]
  },
  {
   "cell_type": "code",
   "execution_count": 10,
   "metadata": {},
   "outputs": [],
   "source": [
    "order = \"\"\"\n",
    "    I would like to order Mac Crispy without pickle and 5 large french fries. Change 2 of french \\\n",
    "    fries to 2 big macs and add a coke.\n",
    "    \"\"\".strip()\n",
    "    \n",
    "p = f\"\"\"\n",
    "    Extract relevant information from a restaurant order in JSON format including information like: \\\n",
    "    food_id (name), comment and quantity of food. Return a JSON file with the following keys: 'food_id', \\\n",
    "    'quantity`, `comment.\n",
    "    When you will see the order think slowly what was ordered, step by step analyze what food items were added \\\n",
    "    and if any were removed/changed. After you analyze all food that  was ordered, its portion size and write down in JSON.\n",
    "    \n",
    "    Order: ```{order}```\n",
    "    JSON:\n",
    "    \"\"\".strip()\n",
    "pred = llm(p, max_new_tokens=2048, temperature=0.0, top_k=55, top_p=0.9, repetition_penalty=1.2)\n",
    "print(pred)\n"
   ]
  },
  {
   "cell_type": "code",
   "execution_count": 17,
   "metadata": {},
   "outputs": [
    {
     "name": "stdout",
     "output_type": "stream",
     "text": [
      "\n",
      "        {\n",
      "            \"menu\": [\n",
      "                {\n",
      "                    \"dish\": \"Mac Crispy\",\n",
      "                    \"quantity\": 1,\n",
      "                    \"comment\": \"\"\n",
      "                },\n",
      "                {\n",
      "                    \"dish\": \"French Fries\",\n",
      "                    \"quantity\": 3,\n",
      "                    \"comment\": \"\"\n",
      "                },\n",
      "                {\n",
      "                    \"dish\": \"Coke\",\n",
      "                    \"quantity\": 1,\n",
      "                    \"comment\": \"\"\n",
      "                }\n",
      "            ]\n",
      "        }\n"
     ]
    }
   ],
   "source": [
    "order = \"\"\"\n",
    "    I would like to order Mac Crispy without pickle and 5 large french fries. Change 2 of french \\\n",
    "    fries to 2 big macs and add a coke. Actually change one big mac to coke.\n",
    "    \"\"\".strip()\n",
    "    \n",
    "p = f\"\"\"\n",
    "    Extract relevant information from a restaurant order (delimited by triple backticks) in JSON format including information like: \\\n",
    "    dish name, comment and quantity of this dish. Return a JSON file with the following keys: 'dish', \\\n",
    "    'quantity`, `comment. Structure can look the following way:\n",
    "    \"menu\": [\n",
    "        \"food_name\": something\n",
    "        \"quantity\": something integer\n",
    "        \"comment\": something\n",
    "    ]\n",
    "    When you will see the order think slowly what was ordered, step by step analyze what food items were added \\\n",
    "    and if any were removed/changed. After you analyze all food that  was ordered, its portion size and write down in JSON.\n",
    "    \n",
    "    Order: ```{order}```\n",
    "    JSON:\n",
    "    \"\"\".strip()\n",
    "pred = llm(p, max_new_tokens=2048, temperature=0.0, top_k=55, top_p=0.9, repetition_penalty=1.2)\n",
    "print(pred)\n"
   ]
  }
 ],
 "metadata": {
  "kernelspec": {
   "display_name": "Python 3",
   "language": "python",
   "name": "python3"
  },
  "language_info": {
   "codemirror_mode": {
    "name": "ipython",
    "version": 3
   },
   "file_extension": ".py",
   "mimetype": "text/x-python",
   "name": "python",
   "nbconvert_exporter": "python",
   "pygments_lexer": "ipython3",
   "version": "3.10.4"
  }
 },
 "nbformat": 4,
 "nbformat_minor": 2
}
