{
 "cells": [
  {
   "cell_type": "markdown",
   "metadata": {},
   "source": [
    "# Use of Mistral AI in processing restaurant orders"
   ]
  },
  {
   "cell_type": "code",
   "execution_count": null,
   "metadata": {},
   "outputs": [],
   "source": [
    "# !pip install ctransformers[cuda] # For GPU run\n",
    "# !pip install ctransformers[gptq] # other\n",
    "!pip install ctransformers # For CPU run "
   ]
  },
  {
   "cell_type": "code",
   "execution_count": 1,
   "metadata": {},
   "outputs": [
    {
     "name": "stderr",
     "output_type": "stream",
     "text": [
      "c:\\Program Files\\Python310\\lib\\site-packages\\tqdm\\auto.py:21: TqdmWarning: IProgress not found. Please update jupyter and ipywidgets. See https://ipywidgets.readthedocs.io/en/stable/user_install.html\n",
      "  from .autonotebook import tqdm as notebook_tqdm\n"
     ]
    }
   ],
   "source": [
    "from ctransformers import AutoModelForCausalLM"
   ]
  },
  {
   "cell_type": "markdown",
   "metadata": {},
   "source": [
    "#### Loading the model (if it is first time, the model will be downloaded)"
   ]
  },
  {
   "cell_type": "code",
   "execution_count": 2,
   "metadata": {},
   "outputs": [
    {
     "name": "stderr",
     "output_type": "stream",
     "text": [
      "Fetching 1 files: 100%|██████████| 1/1 [00:00<?, ?it/s]\n",
      "Fetching 1 files: 100%|██████████| 1/1 [00:00<?, ?it/s]\n"
     ]
    }
   ],
   "source": [
    "llm = AutoModelForCausalLM.from_pretrained(\"TheBloke/Mistral-7B-Instruct-v0.1-GGUF\", model_file=\"mistral-7b-instruct-v0.1.Q5_K_M.gguf\", model_type=\"mistral\")"
   ]
  },
  {
   "cell_type": "markdown",
   "metadata": {},
   "source": [
    "#### Predicting and printing a restaurant order"
   ]
  },
  {
   "cell_type": "code",
   "execution_count": 3,
   "metadata": {},
   "outputs": [
    {
     "name": "stdout",
     "output_type": "stream",
     "text": [
      " { \"food_name\": \"Mac Crispy\", \"quantity\": 1, \"comment\": \"without pickle\" }, { \"food_name\": \"French Fries\", \"quantity\": 3, \"comment\": \"\" }, { \"food_name\": \"Big Macs\", \"quantity\": 2, \"comment\": \"\" }, { \"food_name\": \"Coke\", \"quantity\": 1, \"comment\": \"big\" }\n"
     ]
    }
   ],
   "source": [
    "# Using temperature 0 in order to make the model be as percise as possible (no random output)\n",
    "print(llm(\n",
    "    \"I want to order Mac Crispy without pickle and 5 large french fries. Change 2 of french fries to 2 big macs and add a coke. \\\n",
    "    Add one small coke and make previous one big.\\\n",
    "    What did I order? Answer with in a jason format, which includes fileds: food_name, quantity, comment. Answer:\", \\\n",
    "                max_new_tokens=2048, temperature=0.0, top_k=55, top_p=0.9, repetition_penalty=1.2))"
   ]
  },
  {
   "cell_type": "markdown",
   "metadata": {},
   "source": [
    "#### Most successfull experiments with prompts"
   ]
  },
  {
   "cell_type": "code",
   "execution_count": 7,
   "metadata": {},
   "outputs": [
    {
     "name": "stdout",
     "output_type": "stream",
     "text": [
      " {\n",
      "        \"food_id\": \"Mac Crispy\",\n",
      "        \"quantity\": 1,\n",
      "        \"comment\": \"without pickle\"\n",
      "    },\n",
      "    {\n",
      "        \"food_id\": \"French Fries\",\n",
      "        \"quantity\": 3,\n",
      "        \"comment\": \"\"\n",
      "    }\n"
     ]
    }
   ],
   "source": [
    "order = \"\"\"\n",
    "    I would like to order Mac Crispy without pickle and 5 large french fries. Change 2 of french \n",
    "    fries to 2 big macs and add a coke.\n",
    "    \"\"\".strip()\n",
    "    \n",
    "p = f\"\"\"\n",
    "    Read the restaurant order delimited by triple backticks and return a JSON file depending on \\\n",
    "    what customer ordered with the following keys: food_id, quantity, comment. \n",
    "    \n",
    "    Order: ```{order}```\n",
    "    JSON:\n",
    "    \"\"\".strip()\n",
    "print(llm(p, max_new_tokens=2048, temperature=0.0, top_k=55, top_p=0.9, repetition_penalty=1.2))"
   ]
  },
  {
   "cell_type": "code",
   "execution_count": 10,
   "metadata": {},
   "outputs": [],
   "source": [
    "order = \"\"\"\n",
    "    I would like to order Mac Crispy without pickle and 5 large french fries. Change 2 of french \\\n",
    "    fries to 2 big macs and add a coke.\n",
    "    \"\"\".strip()\n",
    "    \n",
    "p = f\"\"\"\n",
    "    Extract relevant information from a restaurant order in JSON format including information like: \\\n",
    "    food_id (name), comment and quantity of food. Return a JSON file with the following keys: 'food_id', \\\n",
    "    'quantity`, `comment.\n",
    "    When you will see the order think slowly what was ordered, step by step analyze what food items were added \\\n",
    "    and if any were removed/changed. After you analyze all food that  was ordered, its portion size and write down in JSON.\n",
    "    \n",
    "    Order: ```{order}```\n",
    "    JSON:\n",
    "    \"\"\".strip()\n",
    "pred = llm(p, max_new_tokens=2048, temperature=0.0, top_k=55, top_p=0.9, repetition_penalty=1.2)\n",
    "print(pred)\n"
   ]
  },
  {
   "cell_type": "code",
   "execution_count": 17,
   "metadata": {},
   "outputs": [
    {
     "name": "stdout",
     "output_type": "stream",
     "text": [
      "\n",
      "        {\n",
      "            \"menu\": [\n",
      "                {\n",
      "                    \"dish\": \"Mac Crispy\",\n",
      "                    \"quantity\": 1,\n",
      "                    \"comment\": \"\"\n",
      "                },\n",
      "                {\n",
      "                    \"dish\": \"French Fries\",\n",
      "                    \"quantity\": 3,\n",
      "                    \"comment\": \"\"\n",
      "                },\n",
      "                {\n",
      "                    \"dish\": \"Coke\",\n",
      "                    \"quantity\": 1,\n",
      "                    \"comment\": \"\"\n",
      "                }\n",
      "            ]\n",
      "        }\n"
     ]
    }
   ],
   "source": [
    "order = \"\"\"\n",
    "    I would like to order Mac Crispy without pickle and 5 large french fries. Change 2 of french \\\n",
    "    fries to 2 big macs and add a coke. Actually change one big mac to coke.\n",
    "    \"\"\".strip()\n",
    "    \n",
    "p = f\"\"\"\n",
    "    Extract relevant information from a restaurant order (delimited by triple backticks) in JSON format including information like: \\\n",
    "    dish name, comment and quantity of this dish. Return a JSON file with the following keys: 'dish', \\\n",
    "    'quantity`, `comment. Structure can look the following way:\n",
    "    \"menu\": [\n",
    "        \"food_name\": something\n",
    "        \"quantity\": something integer\n",
    "        \"comment\": something\n",
    "    ]\n",
    "    When you will see the order think slowly what was ordered, step by step analyze what food items were added \\\n",
    "    and if any were removed/changed. After you analyze all food that  was ordered, its portion size and write down in JSON.\n",
    "    \n",
    "    Order: ```{order}```\n",
    "    JSON:\n",
    "    \"\"\".strip()\n",
    "pred = llm(p, max_new_tokens=2048, temperature=0.0, top_k=55, top_p=0.9, repetition_penalty=1.2)\n",
    "print(pred)\n"
   ]
  }
 ],
 "metadata": {
  "kernelspec": {
   "display_name": "Python 3",
   "language": "python",
   "name": "python3"
  },
  "language_info": {
   "codemirror_mode": {
    "name": "ipython",
    "version": 3
   },
   "file_extension": ".py",
   "mimetype": "text/x-python",
   "name": "python",
   "nbconvert_exporter": "python",
   "pygments_lexer": "ipython3",
   "version": "3.10.4"
  }
 },
 "nbformat": 4,
 "nbformat_minor": 2
}
