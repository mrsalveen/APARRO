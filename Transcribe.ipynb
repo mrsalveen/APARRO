{
 "cells": [
  {
   "cell_type": "code",
   "execution_count": 1,
   "id": "1470212c",
   "metadata": {},
   "outputs": [
    {
     "name": "stderr",
     "output_type": "stream",
     "text": [
      "c:\\Users\\mevin\\AppData\\Local\\Programs\\Python\\Python311\\Lib\\site-packages\\tqdm\\auto.py:21: TqdmWarning: IProgress not found. Please update jupyter and ipywidgets. See https://ipywidgets.readthedocs.io/en/stable/user_install.html\n",
      "  from .autonotebook import tqdm as notebook_tqdm\n"
     ]
    },
    {
     "name": "stdout",
     "output_type": "stream",
     "text": [
      " I have a dream that my four little children will one day live in a nation where they will  not be judged by the color of their skin, but by the content of their character.  I have a dream today! \n"
     ]
    }
   ],
   "source": [
    "from faster_whisper import WhisperModel\n",
    "\n",
    "model = WhisperModel(\"medium.en\", device=\"cuda\", compute_type=\"float16\")\n",
    "\n",
    "def transcribe_audio(audio_file):\n",
    "    segments, _ = model.transcribe(audio_file)\n",
    "    segments = list(segments)  # The transcription will actually run here.\n",
    "    \n",
    "    label_text = \"\"\n",
    "    for segment in segments:\n",
    "        label_text += segment.text + \" \"\n",
    "    \n",
    "    return label_text\n",
    "\n",
    "def main():\n",
    "    print(transcribe_audio(\"y2mate.com - Martin Luther King Jr I have a dream Audio Clip.mp3\"))\n",
    "\n",
    "\n",
    "if __name__ == \"__main__\":\n",
    "    main()\n"
   ]
  },
  {
   "cell_type": "code",
   "execution_count": 2,
   "id": "b982048a",
   "metadata": {},
   "outputs": [],
   "source": []
  },
  {
   "cell_type": "code",
   "execution_count": 3,
   "id": "656abe15",
   "metadata": {},
   "outputs": [],
   "source": []
  }
 ],
 "metadata": {
  "kernelspec": {
   "display_name": "Python 3 (ipykernel)",
   "language": "python",
   "name": "python3"
  },
  "language_info": {
   "codemirror_mode": {
    "name": "ipython",
    "version": 3
   },
   "file_extension": ".py",
   "mimetype": "text/x-python",
   "name": "python",
   "nbconvert_exporter": "python",
   "pygments_lexer": "ipython3",
   "version": "3.11.6"
  }
 },
 "nbformat": 4,
 "nbformat_minor": 5
}
